{
 "cells": [
  {
   "cell_type": "code",
   "execution_count": null,
   "id": "4a48dedb-9c98-40e3-8e7e-565fb2454810",
   "metadata": {},
   "outputs": [],
   "source": [
    "import numpy as np\n",
    "import seaborn as sns\n",
    "import matplotlib.pyplot as plt"
   ]
  },
  {
   "cell_type": "code",
   "execution_count": 57,
   "id": "1db5d3b9-d6b7-49bb-ba9d-75b3351771eb",
   "metadata": {},
   "outputs": [],
   "source": [
    "x = np.random.normal(scale=2, size=50)\n",
    "y = np.random.normal(scale=2, size=50)"
   ]
  },
  {
   "cell_type": "code",
   "execution_count": 1,
   "id": "218c72af-b395-488f-83cf-5835a3816a13",
   "metadata": {},
   "outputs": [
    {
     "ename": "NameError",
     "evalue": "name 'plt' is not defined",
     "output_type": "error",
     "traceback": [
      "\u001b[0;31m---------------------------------------------------------------------------\u001b[0m",
      "\u001b[0;31mNameError\u001b[0m                                 Traceback (most recent call last)",
      "Cell \u001b[0;32mIn[1], line 1\u001b[0m\n\u001b[0;32m----> 1\u001b[0m \u001b[43mplt\u001b[49m\u001b[38;5;241m.\u001b[39mfigure(figsize\u001b[38;5;241m=\u001b[39m(\u001b[38;5;241m10\u001b[39m, \u001b[38;5;241m10\u001b[39m), dpi\u001b[38;5;241m=\u001b[39m\u001b[38;5;241m100\u001b[39m)\n\u001b[1;32m      2\u001b[0m plt\u001b[38;5;241m.\u001b[39msharex\u001b[38;5;241m=\u001b[39m\u001b[38;5;28;01mTrue\u001b[39;00m\n\u001b[1;32m      3\u001b[0m plt\u001b[38;5;241m.\u001b[39msharey\u001b[38;5;241m=\u001b[39m\u001b[38;5;28;01mTrue\u001b[39;00m\n",
      "\u001b[0;31mNameError\u001b[0m: name 'plt' is not defined"
     ]
    }
   ],
   "source": [
    "plt.figure(figsize=(10, 10), dpi=100)\n",
    "plt.sharex=True\n",
    "plt.sharey=True\n",
    "plt.grid(False)\n",
    "ax = plt.axes([0., 0., 1., 1.], frameon=False, xticks=[],yticks=[])\n",
    "plt.axis('off')\n",
    "cmap = sns.cubehelix_palette(start=1.85, light=1, hue=1, as_cmap=True)\n",
    "ax = sns.kdeplot(x=x, y=y, fill=True, levels=50, cmap=cmap, thresh=0)\n",
    "ax.text(.02, .05, \"KINDNESS\", \n",
    "       fontsize = 40,\n",
    "       fontname = 'Montserrat',\n",
    "       weight = 900,\n",
    "       color='#333333',transform=ax.transAxes)  \n",
    "ax.text(.02, .03, \"Be kind in this cruel world\", \n",
    "       fontsize = 8,\n",
    "       fontname = 'Montserrat',\n",
    "       color='#333333',transform=ax.transAxes) \n",
    "ax.text(.02, .4, \"o\", \n",
    "       fontsize = 8,\n",
    "       fontname = 'Montserrat',\n",
    "       color='#cccccc',transform=ax.transAxes) \n",
    "ax.text(.02, .97, \"1 / 3\", \n",
    "       fontsize = 8,\n",
    "       fontname = 'Montserrat',\n",
    "       color='#333333',transform=ax.transAxes) \n",
    "ax.text(.98, .25, \"Sometimes  it  takes  only  one  act  of  kindness  and  caring  to  change  a  person's  life. - Jackie  Chan\", \n",
    "       fontsize = 8,\n",
    "       fontname = 'Montserrat',\n",
    "       color='#cccccc',\n",
    "       rotation=90,transform=ax.transAxes) \n",
    "plt.savefig(\"poster-1-kindness.png\", format=\"png\", bbox_inches=\"tight\", dpi=100)"
   ]
  },
  {
   "cell_type": "code",
   "execution_count": null,
   "id": "d6a23376-3cf0-4c42-82b0-65351913c177",
   "metadata": {},
   "outputs": [],
   "source": []
  }
 ],
 "metadata": {
  "kernelspec": {
   "display_name": "Python 3 (ipykernel)",
   "language": "python",
   "name": "python3"
  },
  "language_info": {
   "codemirror_mode": {
    "name": "ipython",
    "version": 3
   },
   "file_extension": ".py",
   "mimetype": "text/x-python",
   "name": "python",
   "nbconvert_exporter": "python",
   "pygments_lexer": "ipython3",
   "version": "3.11.5"
  }
 },
 "nbformat": 4,
 "nbformat_minor": 5
}
